{
 "cells": [
  {
   "cell_type": "markdown",
   "id": "64d98cc9",
   "metadata": {},
   "source": [
    "# Supervised machine learning"
   ]
  },
  {
   "cell_type": "markdown",
   "id": "46dda694",
   "metadata": {},
   "source": [
    "# 1. Regression"
   ]
  },
  {
   "cell_type": "code",
   "execution_count": null,
   "id": "091ba1cc",
   "metadata": {},
   "outputs": [],
   "source": [
    "# Predict a number.\n",
    "# There are infinetely many possible outputs"
   ]
  },
  {
   "cell_type": "markdown",
   "id": "1748fa4d",
   "metadata": {},
   "source": [
    "# 2. Classification"
   ]
  },
  {
   "cell_type": "code",
   "execution_count": 7,
   "id": "218f3355",
   "metadata": {},
   "outputs": [],
   "source": [
    "# Predict categories.\n",
    "# Small number odf possible outputs."
   ]
  },
  {
   "cell_type": "code",
   "execution_count": null,
   "id": "41d38b54",
   "metadata": {},
   "outputs": [],
   "source": []
  },
  {
   "cell_type": "code",
   "execution_count": null,
   "id": "b6235456",
   "metadata": {},
   "outputs": [],
   "source": []
  },
  {
   "cell_type": "code",
   "execution_count": null,
   "id": "25e40dd5",
   "metadata": {},
   "outputs": [],
   "source": []
  },
  {
   "cell_type": "markdown",
   "id": "36817a94",
   "metadata": {},
   "source": [
    "# Unsupervised machine learning"
   ]
  },
  {
   "cell_type": "markdown",
   "id": "c0f1988b",
   "metadata": {},
   "source": [
    "# 1. Clustering"
   ]
  },
  {
   "cell_type": "code",
   "execution_count": 3,
   "id": "37186115",
   "metadata": {},
   "outputs": [],
   "source": [
    "# Groups similar data points together."
   ]
  },
  {
   "cell_type": "markdown",
   "id": "bc219365",
   "metadata": {},
   "source": [
    "# 2. Anamoly Detection"
   ]
  },
  {
   "cell_type": "code",
   "execution_count": 4,
   "id": "4a1a61bd",
   "metadata": {},
   "outputs": [],
   "source": [
    "# Find unsual data points (ex- fraud detection)"
   ]
  },
  {
   "cell_type": "markdown",
   "id": "1755a315",
   "metadata": {},
   "source": [
    "# 3. Dimensionality redection."
   ]
  },
  {
   "cell_type": "code",
   "execution_count": 6,
   "id": "9ceb4a99",
   "metadata": {},
   "outputs": [],
   "source": [
    "# Compress data using fewer numbers."
   ]
  },
  {
   "cell_type": "code",
   "execution_count": null,
   "id": "18896f07",
   "metadata": {},
   "outputs": [],
   "source": []
  },
  {
   "cell_type": "code",
   "execution_count": null,
   "id": "ed71dc3b",
   "metadata": {},
   "outputs": [],
   "source": []
  },
  {
   "cell_type": "markdown",
   "id": "5d062d06",
   "metadata": {},
   "source": [
    "# Linear Regression-Part 1"
   ]
  },
  {
   "cell_type": "markdown",
   "id": "0ade30f0",
   "metadata": {},
   "source": [
    "# Terminology"
   ]
  },
  {
   "cell_type": "code",
   "execution_count": 11,
   "id": "adfe168d",
   "metadata": {},
   "outputs": [],
   "source": [
    "# Data that is used to train the model is called \"Training set\".\n",
    "# x = \"input\" variable or \"feature\" variable (ex - size of the house in the data).\n",
    "# y = \"output\" variable or \"target\" variable (ex - price according to the size of the house).\n",
    "# m = number of training examples (ex - number of houses or number of rows present in the data set).\n",
    "# (x,y) = single training example\n",
    "# (x(i) , y(i)) - ith training example. x(i) is x superscript of i , y(i) is y superscript of i"
   ]
  },
  {
   "cell_type": "markdown",
   "id": "79bf9d8d",
   "metadata": {},
   "source": [
    "# \"Linerar regression with one variable\" or \"Univariate linear regression\""
   ]
  },
  {
   "cell_type": "code",
   "execution_count": 13,
   "id": "82a59194",
   "metadata": {},
   "outputs": [],
   "source": [
    "# Univariate meaninng - uni means one and variate means variable"
   ]
  },
  {
   "cell_type": "markdown",
   "id": "bf27576f",
   "metadata": {},
   "source": [
    "# Line function "
   ]
  },
  {
   "cell_type": "code",
   "execution_count": 14,
   "id": "585de678",
   "metadata": {},
   "outputs": [],
   "source": [
    "# f(x) = Ax + B"
   ]
  },
  {
   "cell_type": "markdown",
   "id": "2fd1f865",
   "metadata": {},
   "source": [
    "# Cost function"
   ]
  },
  {
   "cell_type": "code",
   "execution_count": 16,
   "id": "5675d31b",
   "metadata": {},
   "outputs": [],
   "source": [
    "# see andrewng supevised machine learning course."
   ]
  },
  {
   "cell_type": "code",
   "execution_count": null,
   "id": "5e66b9a6",
   "metadata": {},
   "outputs": [],
   "source": [
    "# The goal is to minimize the cost function for the model trained."
   ]
  },
  {
   "cell_type": "markdown",
   "id": "7ea4e92e",
   "metadata": {},
   "source": [
    "# Gradient Descent"
   ]
  },
  {
   "cell_type": "code",
   "execution_count": 19,
   "id": "9eff5221",
   "metadata": {},
   "outputs": [],
   "source": [
    "# It will be appropriate to have a systematic way of finding the values w,b resulting in the minimum cost function which is j(w).\n",
    "# Gradient descent is an algorithm is used to find the values of w,b resulting in the low cost function.\n",
    "# Gradient descent is used all over the machine learning.\n",
    "# Gradient decent is not used for liner regression and cost funtions\n",
    "# ----------------but also in advanced neural neural netwok models also called deep learning."
   ]
  },
  {
   "cell_type": "markdown",
   "id": "f8080355",
   "metadata": {},
   "source": [
    "# \"Multiple linear regression\" or Linear regression with multiple features."
   ]
  },
  {
   "cell_type": "code",
   "execution_count": 20,
   "id": "3f379ae0",
   "metadata": {},
   "outputs": [],
   "source": [
    "# Unlike the single variable linear reression or univariate linear linear regression in the multiple linear regression,\n",
    "# ________we have multiple features (x) and multiple attributes (w)."
   ]
  },
  {
   "cell_type": "markdown",
   "id": "229a5139",
   "metadata": {},
   "source": [
    "# Vectorization"
   ]
  },
  {
   "cell_type": "code",
   "execution_count": 21,
   "id": "c1243039",
   "metadata": {},
   "outputs": [],
   "source": [
    "# Vectorization will cut the code shorter and helps to run the code efficietly.\n",
    "# Helps in modern numerical linear algebra libraries."
   ]
  },
  {
   "cell_type": "code",
   "execution_count": null,
   "id": "4facb5eb",
   "metadata": {},
   "outputs": [],
   "source": []
  },
  {
   "cell_type": "code",
   "execution_count": null,
   "id": "a7a6a9b7",
   "metadata": {},
   "outputs": [],
   "source": []
  },
  {
   "cell_type": "code",
   "execution_count": null,
   "id": "fa14bade",
   "metadata": {},
   "outputs": [],
   "source": []
  },
  {
   "cell_type": "code",
   "execution_count": null,
   "id": "af9af016",
   "metadata": {},
   "outputs": [],
   "source": []
  },
  {
   "cell_type": "code",
   "execution_count": null,
   "id": "4f0dbc40",
   "metadata": {},
   "outputs": [],
   "source": []
  },
  {
   "cell_type": "code",
   "execution_count": null,
   "id": "686329f3",
   "metadata": {},
   "outputs": [],
   "source": []
  },
  {
   "cell_type": "code",
   "execution_count": null,
   "id": "1cfdf658",
   "metadata": {},
   "outputs": [],
   "source": []
  }
 ],
 "metadata": {
  "kernelspec": {
   "display_name": "Python 3 (ipykernel)",
   "language": "python",
   "name": "python3"
  },
  "language_info": {
   "codemirror_mode": {
    "name": "ipython",
    "version": 3
   },
   "file_extension": ".py",
   "mimetype": "text/x-python",
   "name": "python",
   "nbconvert_exporter": "python",
   "pygments_lexer": "ipython3",
   "version": "3.9.7"
  }
 },
 "nbformat": 4,
 "nbformat_minor": 5
}
